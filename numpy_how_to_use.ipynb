{
 "cells": [
  {
   "cell_type": "code",
   "execution_count": 2,
   "metadata": {},
   "outputs": [],
   "source": [
    "#numpyの使い方 \n",
    "import numpy as np"
   ]
  },
  {
   "cell_type": "code",
   "execution_count": 54,
   "metadata": {},
   "outputs": [
    {
     "name": "stdout",
     "output_type": "stream",
     "text": [
      "<class 'numpy.ndarray'>\n",
      "<class 'list'>\n"
     ]
    }
   ],
   "source": [
    "#配列の生成\n",
    "a=np.array([0,1,2,3,4,5]) \n",
    "a_list=([0,1,2,3,4,5])    #np.arrayをつけないと　ただのlistと認識されてしまう\n",
    "print(type(a))\n",
    "print(type(a_list))"
   ]
  },
  {
   "cell_type": "code",
   "execution_count": 7,
   "metadata": {},
   "outputs": [],
   "source": [
    "a=np.arange(6)"
   ]
  },
  {
   "cell_type": "code",
   "execution_count": 13,
   "metadata": {},
   "outputs": [
    {
     "name": "stdout",
     "output_type": "stream",
     "text": [
      "[0 1 2 3 4 5]\n",
      "[[0 1 2]\n",
      " [3 4 5]]\n"
     ]
    }
   ],
   "source": [
    "#配列の形を変更 .reshape( , )\n",
    "a=np.arange(6)\n",
    "b=a.reshape(2,3)\n",
    "\n",
    "print(a)\n",
    "print(b)"
   ]
  },
  {
   "cell_type": "code",
   "execution_count": 16,
   "metadata": {},
   "outputs": [
    {
     "name": "stdout",
     "output_type": "stream",
     "text": [
      "(6,)\n",
      "(2, 3)\n",
      "6\n",
      "6\n"
     ]
    }
   ],
   "source": [
    "#配列の形を返す .shape\n",
    "print(a.shape)\n",
    "print(b.shape)\n",
    "\n",
    "#配列のサイズを返す .size\n",
    "print(a.size)\n",
    "print(b.size)\n"
   ]
  },
  {
   "cell_type": "code",
   "execution_count": 20,
   "metadata": {},
   "outputs": [
    {
     "name": "stdout",
     "output_type": "stream",
     "text": [
      "2 3\n"
     ]
    }
   ],
   "source": [
    "nrow,ncol=b.shape\n",
    "print(nrow,ncol)"
   ]
  },
  {
   "cell_type": "code",
   "execution_count": 56,
   "metadata": {},
   "outputs": [
    {
     "data": {
      "text/plain": [
       "array([ 0.,  0.,  0.,  0.,  0.])"
      ]
     },
     "execution_count": 56,
     "metadata": {},
     "output_type": "execute_result"
    }
   ],
   "source": [
    "np.zeros(5)"
   ]
  },
  {
   "cell_type": "code",
   "execution_count": 59,
   "metadata": {},
   "outputs": [
    {
     "data": {
      "text/plain": [
       "array([ 1.,  1.,  1.,  1.,  1.])"
      ]
     },
     "execution_count": 59,
     "metadata": {},
     "output_type": "execute_result"
    }
   ],
   "source": [
    "np.ones(5)"
   ]
  },
  {
   "cell_type": "code",
   "execution_count": 60,
   "metadata": {},
   "outputs": [
    {
     "data": {
      "text/plain": [
       "array([1, 0, 5, 2, 4, 3])"
      ]
     },
     "execution_count": 60,
     "metadata": {},
     "output_type": "execute_result"
    }
   ],
   "source": [
    "#配列の要素をシャフル permutation()\n",
    "np.random.permutation(range(6))"
   ]
  },
  {
   "cell_type": "code",
   "execution_count": 61,
   "metadata": {},
   "outputs": [
    {
     "data": {
      "text/plain": [
       "array([2, 0, 5, 4, 3, 1])"
      ]
     },
     "execution_count": 61,
     "metadata": {},
     "output_type": "execute_result"
    }
   ],
   "source": [
    "#省略型 range()は省略できる\n",
    "np.random.permutation(6)"
   ]
  },
  {
   "cell_type": "code",
   "execution_count": 73,
   "metadata": {},
   "outputs": [
    {
     "name": "stdout",
     "output_type": "stream",
     "text": [
      "a= [[0 1 2]\n",
      " [3 4 5]]\n",
      "b= [[ 6  7  8]\n",
      " [ 9 10 11]]\n",
      "hstack: [[ 0  1  2  6  7  8]\n",
      " [ 3  4  5  9 10 11]]\n",
      "vstack: [[ 0  1  2]\n",
      " [ 3  4  5]\n",
      " [ 6  7  8]\n",
      " [ 9 10 11]]\n"
     ]
    }
   ],
   "source": [
    "#配列の連結\n",
    "a=np.array([0,1,2,3,4,5])\n",
    "a=a.reshape(2,3)\n",
    "b=np.array([6,7,8,9,10,11])\n",
    "b=b.reshape(2,3)\n",
    "print(\"a=\",a)\n",
    "print(\"b=\",b)\n",
    "\n",
    "#配列を右（水平）に連結 hstack([ , ])\n",
    "#配列を下（垂直）に連結 vstack([ , ])\n",
    "\n",
    "c=np.hstack([a,b])\n",
    "d=np.vstack([a,b])\n",
    "\n",
    "print(\"hstack:\",c)\n",
    "print(\"vstack:\",d)"
   ]
  },
  {
   "cell_type": "code",
   "execution_count": 80,
   "metadata": {},
   "outputs": [
    {
     "name": "stdout",
     "output_type": "stream",
     "text": [
      "[[ 0  1  2  3]\n",
      " [ 4  5  6  7]\n",
      " [ 8  9 10 11]]\n",
      "[[ 0  1  2  3]\n",
      " [ 8  9 10 11]]\n",
      "[[ 0  1  3]\n",
      " [ 4  5  7]\n",
      " [ 8  9 11]]\n",
      "[[-1  1 -1  3]\n",
      " [-1  5 -1  7]\n",
      " [-1  9 -1 11]]\n"
     ]
    }
   ],
   "source": [
    "#配列の加工\n",
    "a=np.array([0,1,2,3,4,5,6,7,8,9,10,11])\n",
    "a=a.reshape(3,4)\n",
    "print(a)\n",
    "\n",
    "#2行目を取り除く＝必要な行だけを取り出す\n",
    "b=a[[0,2],:] # [[取り出したい行],他は捨てる]　という意味\n",
    "print(b)\n",
    "\n",
    "#３列目を取り除く＝必要な列だけを取り出す\n",
    "c=a[:,[0,1,3]]\n",
    "print(c)\n",
    "\n",
    "#条件にあった要素を置き換える\n",
    "a[a%2==0]=-1 #２で割れる配列番号の要素だけに-1を代入する\n",
    "print(a)\n",
    "\n"
   ]
  },
  {
   "cell_type": "code",
   "execution_count": 91,
   "metadata": {},
   "outputs": [
    {
     "name": "stdout",
     "output_type": "stream",
     "text": [
      "[[1 2 3]\n",
      " [4 5 6]]\n",
      "[[2 3 4]\n",
      " [5 6 7]]\n",
      "21\n",
      "3.5\n",
      "[5 7 9]\n",
      "[ 6 15]\n"
     ]
    }
   ],
   "source": [
    "#演算\n",
    "a=np.array([1,2,3,4,5,6])\n",
    "a=a.reshape(2,3)\n",
    "print(a)\n",
    "print(a+1)\n",
    "print(np.sum(a))\n",
    "print(np.mean(a))\n",
    "\n",
    "#軸（行または列）を固定して演算（２次元の場合）　axis=\n",
    "print(np.sum(a,axis=0))#列ごとの和\n",
    "print(np.sum(a,axis=1))#行ごとの和"
   ]
  },
  {
   "cell_type": "code",
   "execution_count": 92,
   "metadata": {},
   "outputs": [
    {
     "data": {
      "text/plain": [
       "38"
      ]
     },
     "execution_count": 92,
     "metadata": {},
     "output_type": "execute_result"
    }
   ],
   "source": [
    "#ベクトルの積\n",
    "a=np.array([0,1,2,3])\n",
    "b=np.array([4,5,6,7])\n",
    "\n",
    "print(a.dot(b)) #ベクトルの内積"
   ]
  },
  {
   "cell_type": "code",
   "execution_count": 96,
   "metadata": {},
   "outputs": [
    {
     "name": "stdout",
     "output_type": "stream",
     "text": [
      "[[10 13]\n",
      " [28 40]]\n"
     ]
    }
   ],
   "source": [
    "#行列の積\n",
    "a=np.array([[0,1,2],[3,4,5]])\n",
    "b=np.array([[0,1],[2,3],[4,5]])\n",
    "\n",
    "print(a.dot(b)) #行列の内積"
   ]
  },
  {
   "cell_type": "code",
   "execution_count": 104,
   "metadata": {},
   "outputs": [
    {
     "name": "stdout",
     "output_type": "stream",
     "text": [
      "[[ 0  6  3]\n",
      " [-2  7  2]\n",
      " [ 0  0  3]]\n",
      "[[ 0 -2  0]\n",
      " [ 6  7  0]\n",
      " [ 3  2  3]]\n",
      "36.0\n",
      "[[ 0.58333333 -0.5        -0.25      ]\n",
      " [ 0.16666667  0.         -0.16666667]\n",
      " [ 0.          0.          0.33333333]]\n"
     ]
    }
   ],
   "source": [
    "#行列の演算\n",
    "a=np.array([0,6,3,-2,7,2,0,0,3])\n",
    "a=a.reshape(3,3)\n",
    "print(a) #3x3行列を作成\n",
    "\n",
    "#転置行列\n",
    "print(a.T)\n",
    "\n",
    "#行列式\n",
    "print(np.linalg.det(a))\n",
    "\n",
    "#逆行列\n",
    "print(np.linalg.inv(a))"
   ]
  },
  {
   "cell_type": "code",
   "execution_count": 111,
   "metadata": {},
   "outputs": [
    {
     "data": {
      "text/plain": [
       "array([[  1.00000000e+00,  -4.44089210e-16,  -2.22044605e-16],\n",
       "       [  0.00000000e+00,   1.00000000e+00,   2.77555756e-17],\n",
       "       [  0.00000000e+00,   0.00000000e+00,   1.00000000e+00]])"
      ]
     },
     "execution_count": 111,
     "metadata": {},
     "output_type": "execute_result"
    }
   ],
   "source": [
    "np.linalg.inv(a).dot(a)"
   ]
  },
  {
   "cell_type": "code",
   "execution_count": 13,
   "metadata": {},
   "outputs": [
    {
     "name": "stdout",
     "output_type": "stream",
     "text": [
      "[[ 0  6  3]\n",
      " [-2  7  2]\n",
      " [ 0  0  3]]\n",
      "[[-2  7  2]\n",
      " [ 0  0  3]]\n"
     ]
    }
   ],
   "source": [
    "#特定の行を消す\n",
    "\n",
    "#numpy.delete(arr, obj, axis=None)\n",
    "#arr: 入力配列\n",
    "#obj: 消去する行番号や列番号をslice, int, リスト（配列）で指定\n",
    "#axis: 消去対象となる軸（次元）\n",
    "    \n",
    "a=np.array([0,6,3,-2,7,2,0,0,3])\n",
    "a=a.reshape(3,3)\n",
    "print(a) #3x3行列を作成\n",
    "\n",
    "new = np.delete(a, obj=0, axis=0)\n",
    "print(new)\n",
    "\n"
   ]
  },
  {
   "cell_type": "code",
   "execution_count": 2,
   "metadata": {},
   "outputs": [
    {
     "name": "stdout",
     "output_type": "stream",
     "text": [
      "[[ 0  6  3]\n",
      " [-2  7  2]\n",
      " [ 0  0  3]]\n"
     ]
    }
   ],
   "source": [
    "import numpy as np\n",
    "a=np.array([0,6,3,-2,7,2,0,0,3])\n",
    "a=a.reshape(3,3)\n",
    "print(a) #3x3行列を作成"
   ]
  },
  {
   "cell_type": "code",
   "execution_count": null,
   "metadata": {
    "collapsed": true
   },
   "outputs": [],
   "source": []
  },
  {
   "cell_type": "code",
   "execution_count": null,
   "metadata": {
    "collapsed": true
   },
   "outputs": [],
   "source": []
  }
 ],
 "metadata": {
  "kernelspec": {
   "display_name": "Python 3",
   "language": "python",
   "name": "python3"
  },
  "language_info": {
   "codemirror_mode": {
    "name": "ipython",
    "version": 3
   },
   "file_extension": ".py",
   "mimetype": "text/x-python",
   "name": "python",
   "nbconvert_exporter": "python",
   "pygments_lexer": "ipython3",
   "version": "3.6.4"
  }
 },
 "nbformat": 4,
 "nbformat_minor": 2
}
